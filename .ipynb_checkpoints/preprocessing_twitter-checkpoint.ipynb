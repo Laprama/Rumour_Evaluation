{
 "cells": [
  {
   "cell_type": "code",
   "execution_count": 1,
   "metadata": {},
   "outputs": [],
   "source": [
    "import sys\n",
    "sys.path.append('data_extraction/')\n",
    "sys.path.append('preprocessing/')"
   ]
  },
  {
   "cell_type": "code",
   "execution_count": 2,
   "metadata": {},
   "outputs": [],
   "source": [
    "from reddit_data_extraction import *\n",
    "from twitter_data_extraction import *\n",
    "from preprocessing_twitter import *"
   ]
  },
  {
   "cell_type": "markdown",
   "metadata": {},
   "source": [
    "## Data"
   ]
  },
  {
   "cell_type": "code",
   "execution_count": 3,
   "metadata": {},
   "outputs": [],
   "source": [
    "training_data_zip = ('data/rumoureval-2019-training-data.zip')\n",
    "training_data_directory = ZipFile(training_data_zip)\n",
    "training_data_contents = get_directory_structure(training_data_directory)"
   ]
  },
  {
   "cell_type": "code",
   "execution_count": 4,
   "metadata": {},
   "outputs": [],
   "source": [
    "reddit_train_data = training_data_contents['reddit-training-data']\n",
    "reddit_dev_data = training_data_contents['reddit-dev-data']"
   ]
  },
  {
   "cell_type": "code",
   "execution_count": 5,
   "metadata": {},
   "outputs": [],
   "source": [
    "twitter_english = training_data_contents['twitter-english']"
   ]
  },
  {
   "cell_type": "markdown",
   "metadata": {},
   "source": [
    "### Data Labels"
   ]
  },
  {
   "cell_type": "code",
   "execution_count": 6,
   "metadata": {},
   "outputs": [],
   "source": [
    "train_labels = json.loads(training_data_directory.read('rumoureval-2019-training-data/train-key.json'))\n",
    "dev_labels = json.loads(training_data_directory.read('rumoureval-2019-training-data/dev-key.json'))"
   ]
  },
  {
   "cell_type": "markdown",
   "metadata": {},
   "source": [
    "### Extract data"
   ]
  },
  {
   "cell_type": "code",
   "execution_count": 7,
   "metadata": {},
   "outputs": [],
   "source": [
    "data = get_twitter_data(training_data_directory, twitter_english, train_labels, dev_labels)"
   ]
  },
  {
   "cell_type": "code",
   "execution_count": 8,
   "metadata": {},
   "outputs": [
    {
     "data": {
      "text/html": [
       "<div>\n",
       "<style scoped>\n",
       "    .dataframe tbody tr th:only-of-type {\n",
       "        vertical-align: middle;\n",
       "    }\n",
       "\n",
       "    .dataframe tbody tr th {\n",
       "        vertical-align: top;\n",
       "    }\n",
       "\n",
       "    .dataframe thead th {\n",
       "        text-align: right;\n",
       "    }\n",
       "</style>\n",
       "<table border=\"1\" class=\"dataframe\">\n",
       "  <thead>\n",
       "    <tr style=\"text-align: right;\">\n",
       "      <th></th>\n",
       "      <th>text</th>\n",
       "      <th>depth</th>\n",
       "      <th>split</th>\n",
       "      <th>task_A_label</th>\n",
       "    </tr>\n",
       "  </thead>\n",
       "  <tbody>\n",
       "    <tr>\n",
       "      <th>0</th>\n",
       "      <td>MT @euronews France: 10 dead after shooting at...</td>\n",
       "      <td>1</td>\n",
       "      <td>train</td>\n",
       "      <td>comment</td>\n",
       "    </tr>\n",
       "    <tr>\n",
       "      <th>1</th>\n",
       "      <td>@j0nathandavis They who? Stupid and partial op...</td>\n",
       "      <td>2</td>\n",
       "      <td>train</td>\n",
       "      <td>deny</td>\n",
       "    </tr>\n",
       "    <tr>\n",
       "      <th>2</th>\n",
       "      <td>@nanoSpawn Socialists, Antisemites, anti zioni...</td>\n",
       "      <td>3</td>\n",
       "      <td>train</td>\n",
       "      <td>comment</td>\n",
       "    </tr>\n",
       "    <tr>\n",
       "      <th>3</th>\n",
       "      <td>@euronews @TradeDesk_Steve A French crime of p...</td>\n",
       "      <td>1</td>\n",
       "      <td>train</td>\n",
       "      <td>query</td>\n",
       "    </tr>\n",
       "    <tr>\n",
       "      <th>4</th>\n",
       "      <td>@euronews LOL. 5 million Muslims in France, wh...</td>\n",
       "      <td>1</td>\n",
       "      <td>train</td>\n",
       "      <td>comment</td>\n",
       "    </tr>\n",
       "    <tr>\n",
       "      <th>...</th>\n",
       "      <td>...</td>\n",
       "      <td>...</td>\n",
       "      <td>...</td>\n",
       "      <td>...</td>\n",
       "    </tr>\n",
       "    <tr>\n",
       "      <th>5563</th>\n",
       "      <td>@emaccaz_ omfg it is 😱😱😱😱😱</td>\n",
       "      <td>2</td>\n",
       "      <td>train</td>\n",
       "      <td>comment</td>\n",
       "    </tr>\n",
       "    <tr>\n",
       "      <th>5564</th>\n",
       "      <td>@Angus_OL thank god they're all safe now. some...</td>\n",
       "      <td>1</td>\n",
       "      <td>train</td>\n",
       "      <td>support</td>\n",
       "    </tr>\n",
       "    <tr>\n",
       "      <th>5565</th>\n",
       "      <td>@Angus_OL thank god its over, they're finally ...</td>\n",
       "      <td>1</td>\n",
       "      <td>train</td>\n",
       "      <td>comment</td>\n",
       "    </tr>\n",
       "    <tr>\n",
       "      <th>5566</th>\n",
       "      <td>@Angus_OL :(</td>\n",
       "      <td>1</td>\n",
       "      <td>train</td>\n",
       "      <td>comment</td>\n",
       "    </tr>\n",
       "    <tr>\n",
       "      <th>5567</th>\n",
       "      <td>Police confirm that #sydneysiege is finally ov...</td>\n",
       "      <td>0</td>\n",
       "      <td>train</td>\n",
       "      <td>support</td>\n",
       "    </tr>\n",
       "  </tbody>\n",
       "</table>\n",
       "<p>5568 rows × 4 columns</p>\n",
       "</div>"
      ],
      "text/plain": [
       "                                                   text  depth  split  \\\n",
       "0     MT @euronews France: 10 dead after shooting at...      1  train   \n",
       "1     @j0nathandavis They who? Stupid and partial op...      2  train   \n",
       "2     @nanoSpawn Socialists, Antisemites, anti zioni...      3  train   \n",
       "3     @euronews @TradeDesk_Steve A French crime of p...      1  train   \n",
       "4     @euronews LOL. 5 million Muslims in France, wh...      1  train   \n",
       "...                                                 ...    ...    ...   \n",
       "5563                         @emaccaz_ omfg it is 😱😱😱😱😱      2  train   \n",
       "5564  @Angus_OL thank god they're all safe now. some...      1  train   \n",
       "5565  @Angus_OL thank god its over, they're finally ...      1  train   \n",
       "5566                                       @Angus_OL :(      1  train   \n",
       "5567  Police confirm that #sydneysiege is finally ov...      0  train   \n",
       "\n",
       "     task_A_label  \n",
       "0         comment  \n",
       "1            deny  \n",
       "2         comment  \n",
       "3           query  \n",
       "4         comment  \n",
       "...           ...  \n",
       "5563      comment  \n",
       "5564      support  \n",
       "5565      comment  \n",
       "5566      comment  \n",
       "5567      support  \n",
       "\n",
       "[5568 rows x 4 columns]"
      ]
     },
     "execution_count": 8,
     "metadata": {},
     "output_type": "execute_result"
    }
   ],
   "source": [
    "data[['text', 'depth', 'split', 'task_A_label']]"
   ]
  },
  {
   "cell_type": "markdown",
   "metadata": {},
   "source": [
    "### Feature Engineering"
   ]
  },
  {
   "cell_type": "code",
   "execution_count": 9,
   "metadata": {},
   "outputs": [],
   "source": [
    "data = build_feature(data, build_hashtag_feature, 'hashtag_feature')\n",
    "data = build_feature(data, build_url_feature, 'url_feature')"
   ]
  },
  {
   "cell_type": "markdown",
   "metadata": {},
   "source": [
    "### Cleaning Text"
   ]
  },
  {
   "cell_type": "code",
   "execution_count": 10,
   "metadata": {},
   "outputs": [],
   "source": [
    "%%capture\n",
    "data = build_feature(data, clean_text, 'cleaned_text')"
   ]
  },
  {
   "cell_type": "code",
   "execution_count": 15,
   "metadata": {},
   "outputs": [],
   "source": [
    "data_set = data.to_json('rumour_eval.json')"
   ]
  },
  {
   "cell_type": "markdown",
   "metadata": {},
   "source": [
    "### Tokenising (not implemented yet)"
   ]
  },
  {
   "cell_type": "markdown",
   "metadata": {},
   "source": [
    "..."
   ]
  }
 ],
 "metadata": {
  "kernelspec": {
   "display_name": "Python 3",
   "language": "python",
   "name": "python3"
  },
  "language_info": {
   "codemirror_mode": {
    "name": "ipython",
    "version": 3
   },
   "file_extension": ".py",
   "mimetype": "text/x-python",
   "name": "python",
   "nbconvert_exporter": "python",
   "pygments_lexer": "ipython3",
   "version": "3.8.5"
  }
 },
 "nbformat": 4,
 "nbformat_minor": 4
}
