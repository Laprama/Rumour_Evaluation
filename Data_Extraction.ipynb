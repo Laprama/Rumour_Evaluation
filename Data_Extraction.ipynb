{
 "cells": [
  {
   "cell_type": "code",
   "execution_count": 1,
   "metadata": {},
   "outputs": [],
   "source": [
    "import sys\n",
    "sys.path.append('data_extraction/')"
   ]
  },
  {
   "cell_type": "code",
   "execution_count": 3,
   "metadata": {},
   "outputs": [],
   "source": [
    "from reddit_data_extraction import *\n",
    "from twitter_data_extraction import *"
   ]
  },
  {
   "cell_type": "markdown",
   "metadata": {},
   "source": [
    "## Data"
   ]
  },
  {
   "cell_type": "code",
   "execution_count": 4,
   "metadata": {},
   "outputs": [],
   "source": [
    "training_data_zip = ('data/rumoureval-2019-training-data.zip')\n",
    "training_data_directory = ZipFile(training_data_zip)\n",
    "training_data_contents = get_directory_structure(training_data_directory)"
   ]
  },
  {
   "cell_type": "code",
   "execution_count": 5,
   "metadata": {},
   "outputs": [],
   "source": [
    "reddit_train_data = training_data_contents['reddit-training-data']\n",
    "reddit_dev_data = training_data_contents['reddit-dev-data']"
   ]
  },
  {
   "cell_type": "code",
   "execution_count": 6,
   "metadata": {},
   "outputs": [],
   "source": [
    "twitter_english = training_data_contents['twitter-english']"
   ]
  },
  {
   "cell_type": "markdown",
   "metadata": {},
   "source": [
    "### Data Labels"
   ]
  },
  {
   "cell_type": "code",
   "execution_count": 7,
   "metadata": {},
   "outputs": [],
   "source": [
    "train_labels = json.loads(training_data_directory.read('rumoureval-2019-training-data/train-key.json'))\n",
    "dev_labels = json.loads(training_data_directory.read('rumoureval-2019-training-data/dev-key.json'))"
   ]
  },
  {
   "cell_type": "markdown",
   "metadata": {},
   "source": [
    "### Reddit - Data Extraction"
   ]
  },
  {
   "cell_type": "code",
   "execution_count": 8,
   "metadata": {},
   "outputs": [],
   "source": [
    "dev, train = get_train_dev(training_data_directory, reddit_train_data, reddit_dev_data, train_labels, dev_labels)"
   ]
  },
  {
   "cell_type": "code",
   "execution_count": 23,
   "metadata": {},
   "outputs": [],
   "source": [
    "import pandas as pd\n",
    "pd.set_option('display.max_columns', None)"
   ]
  },
  {
   "cell_type": "code",
   "execution_count": 24,
   "metadata": {},
   "outputs": [],
   "source": [
    "dev_set = [d.pop('data', None) for d in dev]\n",
    "train_set = [d.pop('data', None) for d in train]"
   ]
  },
  {
   "cell_type": "code",
   "execution_count": 25,
   "metadata": {},
   "outputs": [],
   "source": [
    "development = pd.DataFrame(dev_set)\n",
    "training = pd.DataFrame(train_set)"
   ]
  },
  {
   "cell_type": "markdown",
   "metadata": {},
   "source": [
    "### Twitter - Data Extraction"
   ]
  },
  {
   "cell_type": "code",
   "execution_count": 26,
   "metadata": {},
   "outputs": [],
   "source": [
    "data = get_twitter_data(training_data_directory, twitter_english, train_labels, dev_labels)"
   ]
  },
  {
   "cell_type": "code",
   "execution_count": 27,
   "metadata": {},
   "outputs": [],
   "source": [
    "df = pd.DataFrame(data)"
   ]
  },
  {
   "cell_type": "code",
   "execution_count": 38,
   "metadata": {},
   "outputs": [
    {
     "data": {
      "text/plain": [
       "contributors                                                                  None\n",
       "truncated                                                                    False\n",
       "text                             @Colvinius @Red4Mira true but there's a huge d...\n",
       "in_reply_to_status_id                                                  5.52812e+17\n",
       "id                                                              552812407064899585\n",
       "favorite_count                                                                   1\n",
       "source                           <a href=\"http://twitter.com\" rel=\"nofollow\">Tw...\n",
       "retweeted                                                                    False\n",
       "coordinates                                                                   None\n",
       "entities                         {'symbols': [], 'user_mentions': [{'id': 21749...\n",
       "in_reply_to_screen_name                                                  Colvinius\n",
       "id_str                                                          552812407064899585\n",
       "retweet_count                                                                    0\n",
       "in_reply_to_user_id                                                    2.17496e+07\n",
       "favorited                                                                    False\n",
       "user                             {'follow_request_sent': False, 'profile_use_ba...\n",
       "geo                                                                           None\n",
       "in_reply_to_user_id_str                                                   21749564\n",
       "lang                                                                            en\n",
       "created_at                                          Wed Jan 07 13:02:03 +0000 2015\n",
       "in_reply_to_status_id_str                                       552811900686176257\n",
       "place                                                                         None\n",
       "labels                                                                     comment\n",
       "split                                                                        train\n",
       "depth                                                                            4\n",
       "possibly_sensitive                                                             NaN\n",
       "extended_entities                                                              NaN\n",
       "filter_level                                                                   NaN\n",
       "metadata                                                                       NaN\n",
       "possibly_sensitive_appealable                                                  NaN\n",
       "is_quote_status                                                                NaN\n",
       "quoted_status_id                                                               NaN\n",
       "quoted_status                                                                  NaN\n",
       "quoted_status_id_str                                                           NaN\n",
       "Name: 250, dtype: object"
      ]
     },
     "execution_count": 38,
     "metadata": {},
     "output_type": "execute_result"
    }
   ],
   "source": []
  },
  {
   "cell_type": "code",
   "execution_count": null,
   "metadata": {},
   "outputs": [],
   "source": []
  }
 ],
 "metadata": {
  "kernelspec": {
   "display_name": "Python 3",
   "language": "python",
   "name": "python3"
  },
  "language_info": {
   "codemirror_mode": {
    "name": "ipython",
    "version": 3
   },
   "file_extension": ".py",
   "mimetype": "text/x-python",
   "name": "python",
   "nbconvert_exporter": "python",
   "pygments_lexer": "ipython3",
   "version": "3.8.5"
  }
 },
 "nbformat": 4,
 "nbformat_minor": 4
}
